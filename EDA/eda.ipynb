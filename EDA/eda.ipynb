{
 "cells": [
  {
   "cell_type": "code",
   "execution_count": 59,
   "id": "9fdbd6cd-73e8-4d2d-b761-87ea890b1586",
   "metadata": {},
   "outputs": [],
   "source": [
    "import pandas as pd\n",
    "import numpy as np\n",
    "import matplotlib.pyplot as plt\n",
    "import os\n",
    "from  scipy import stats\n",
    "from statistics import mean , stdev"
   ]
  },
  {
   "cell_type": "code",
   "execution_count": 2,
   "id": "ebfcb359-2783-4a41-bad9-64561f864da4",
   "metadata": {},
   "outputs": [],
   "source": [
    "os.chdir('../')\n",
    "WORKDIR = os.getcwd()"
   ]
  },
  {
   "cell_type": "code",
   "execution_count": 134,
   "id": "8035304f-d92a-4635-9e23-aacffd7b8df1",
   "metadata": {},
   "outputs": [
    {
     "data": {
      "text/plain": [
       "'/home/harshtherocking/Documents/GraphSA/Graphical-Sentiment-Analysis'"
      ]
     },
     "execution_count": 134,
     "metadata": {},
     "output_type": "execute_result"
    }
   ],
   "source": [
    "WORKDIR"
   ]
  },
  {
   "cell_type": "code",
   "execution_count": 4,
   "id": "871822ff-b70e-42ab-a8b7-60883b305f51",
   "metadata": {},
   "outputs": [
    {
     "data": {
      "text/plain": [
       "['training.py',\n",
       " 'Twitter_Data.csv',\n",
       " 'MessagePassing',\n",
       " 'src',\n",
       " 'EDA',\n",
       " 'DependencyParsing',\n",
       " '.git',\n",
       " 'Embeddings',\n",
       " 'README.md']"
      ]
     },
     "execution_count": 4,
     "metadata": {},
     "output_type": "execute_result"
    }
   ],
   "source": [
    "os.listdir(WORKDIR)"
   ]
  },
  {
   "cell_type": "code",
   "execution_count": 5,
   "id": "b91c7760-4180-48f9-9a71-188b4d940839",
   "metadata": {},
   "outputs": [
    {
     "data": {
      "text/plain": [
       "'/home/harshtherocking/Documents/GraphSA/Graphical-Sentiment-Analysis/Twitter_Data.csv'"
      ]
     },
     "execution_count": 5,
     "metadata": {},
     "output_type": "execute_result"
    }
   ],
   "source": [
    "data_dir = os.path.join(WORKDIR, os.listdir(WORKDIR)[1])\n",
    "data_dir"
   ]
  },
  {
   "cell_type": "code",
   "execution_count": 6,
   "id": "a71cb823-0378-479c-88c1-9be99cd3be6f",
   "metadata": {},
   "outputs": [],
   "source": [
    "data = pd.read_csv(data_dir)"
   ]
  },
  {
   "cell_type": "code",
   "execution_count": 7,
   "id": "0c0c5e35-8499-4cf4-aede-ec8d2f67474e",
   "metadata": {},
   "outputs": [
    {
     "data": {
      "text/html": [
       "<div>\n",
       "<style scoped>\n",
       "    .dataframe tbody tr th:only-of-type {\n",
       "        vertical-align: middle;\n",
       "    }\n",
       "\n",
       "    .dataframe tbody tr th {\n",
       "        vertical-align: top;\n",
       "    }\n",
       "\n",
       "    .dataframe thead th {\n",
       "        text-align: right;\n",
       "    }\n",
       "</style>\n",
       "<table border=\"1\" class=\"dataframe\">\n",
       "  <thead>\n",
       "    <tr style=\"text-align: right;\">\n",
       "      <th></th>\n",
       "      <th>clean_text</th>\n",
       "      <th>category</th>\n",
       "    </tr>\n",
       "  </thead>\n",
       "  <tbody>\n",
       "    <tr>\n",
       "      <th>0</th>\n",
       "      <td>when modi promised “minimum government maximum...</td>\n",
       "      <td>-1.0</td>\n",
       "    </tr>\n",
       "    <tr>\n",
       "      <th>1</th>\n",
       "      <td>talk all the nonsense and continue all the dra...</td>\n",
       "      <td>0.0</td>\n",
       "    </tr>\n",
       "    <tr>\n",
       "      <th>2</th>\n",
       "      <td>what did just say vote for modi  welcome bjp t...</td>\n",
       "      <td>1.0</td>\n",
       "    </tr>\n",
       "    <tr>\n",
       "      <th>3</th>\n",
       "      <td>asking his supporters prefix chowkidar their n...</td>\n",
       "      <td>1.0</td>\n",
       "    </tr>\n",
       "    <tr>\n",
       "      <th>4</th>\n",
       "      <td>answer who among these the most powerful world...</td>\n",
       "      <td>1.0</td>\n",
       "    </tr>\n",
       "  </tbody>\n",
       "</table>\n",
       "</div>"
      ],
      "text/plain": [
       "                                          clean_text  category\n",
       "0  when modi promised “minimum government maximum...      -1.0\n",
       "1  talk all the nonsense and continue all the dra...       0.0\n",
       "2  what did just say vote for modi  welcome bjp t...       1.0\n",
       "3  asking his supporters prefix chowkidar their n...       1.0\n",
       "4  answer who among these the most powerful world...       1.0"
      ]
     },
     "execution_count": 7,
     "metadata": {},
     "output_type": "execute_result"
    }
   ],
   "source": [
    "data.head()"
   ]
  },
  {
   "cell_type": "code",
   "execution_count": 34,
   "id": "5ed9cde0-0f64-44d8-bdc1-1706cae24580",
   "metadata": {},
   "outputs": [],
   "source": [
    "data = data.dropna(axis = 0, ignore_index = True)"
   ]
  },
  {
   "cell_type": "code",
   "execution_count": 37,
   "id": "0fceb087-e9df-41da-a63d-ff498956e356",
   "metadata": {},
   "outputs": [],
   "source": [
    "data.drop_duplicates(inplace = True, ignore_index = True)"
   ]
  },
  {
   "cell_type": "code",
   "execution_count": 38,
   "id": "52ec31ca-8932-4b0e-b5fa-c0238e7a7df2",
   "metadata": {},
   "outputs": [
    {
     "data": {
      "text/plain": [
       "<bound method DataFrame.info of                                                clean_text  category\n",
       "0       when modi promised “minimum government maximum...      -1.0\n",
       "1       talk all the nonsense and continue all the dra...       0.0\n",
       "2       what did just say vote for modi  welcome bjp t...       1.0\n",
       "3       asking his supporters prefix chowkidar their n...       1.0\n",
       "4       answer who among these the most powerful world...       1.0\n",
       "...                                                   ...       ...\n",
       "162964  why these 456 crores paid neerav modi not reco...      -1.0\n",
       "162965  dear rss terrorist payal gawar what about modi...      -1.0\n",
       "162966  did you cover her interaction forum where she ...       0.0\n",
       "162967  there big project came into india modi dream p...       0.0\n",
       "162968  have you ever listen about like gurukul where ...       1.0\n",
       "\n",
       "[162969 rows x 2 columns]>"
      ]
     },
     "execution_count": 38,
     "metadata": {},
     "output_type": "execute_result"
    }
   ],
   "source": [
    "data.info"
   ]
  },
  {
   "cell_type": "code",
   "execution_count": 39,
   "id": "3d85a731-482e-4985-985a-6ab20c5db9a3",
   "metadata": {},
   "outputs": [
    {
     "data": {
      "text/plain": [
       "array([-1.,  0.,  1.])"
      ]
     },
     "execution_count": 39,
     "metadata": {},
     "output_type": "execute_result"
    }
   ],
   "source": [
    "labels = data[\"category\"].unique()\n",
    "labels"
   ]
  },
  {
   "cell_type": "code",
   "execution_count": 44,
   "id": "81a0274f-45bd-487a-b0c2-870829a57d4a",
   "metadata": {},
   "outputs": [
    {
     "ename": "TypeError",
     "evalue": "DataFrame.groupby() got an unexpected keyword argument 'ignore_index'",
     "output_type": "error",
     "traceback": [
      "\u001b[0;31m---------------------------------------------------------------------------\u001b[0m",
      "\u001b[0;31mTypeError\u001b[0m                                 Traceback (most recent call last)",
      "Cell \u001b[0;32mIn[44], line 1\u001b[0m\n\u001b[0;32m----> 1\u001b[0m \u001b[38;5;28;01mfor\u001b[39;00m label , group \u001b[38;5;129;01min\u001b[39;00m \u001b[43mdata\u001b[49m\u001b[38;5;241;43m.\u001b[39;49m\u001b[43mgroupby\u001b[49m\u001b[43m(\u001b[49m\u001b[38;5;124;43m\"\u001b[39;49m\u001b[38;5;124;43mcategory\u001b[39;49m\u001b[38;5;124;43m\"\u001b[39;49m\u001b[43m,\u001b[49m\u001b[43mas_index\u001b[49m\u001b[38;5;241;43m=\u001b[39;49m\u001b[38;5;28;43;01mFalse\u001b[39;49;00m\u001b[43m,\u001b[49m\u001b[43m \u001b[49m\u001b[43mignore_index\u001b[49m\u001b[43m \u001b[49m\u001b[38;5;241;43m=\u001b[39;49m\u001b[43m \u001b[49m\u001b[38;5;28;43;01mTrue\u001b[39;49;00m\u001b[43m)\u001b[49m:\n\u001b[1;32m      2\u001b[0m     \u001b[38;5;28;01mif\u001b[39;00m label \u001b[38;5;241m==\u001b[39m \u001b[38;5;241m1\u001b[39m:\n\u001b[1;32m      3\u001b[0m         posi_comm \u001b[38;5;241m=\u001b[39m group\n",
      "\u001b[0;31mTypeError\u001b[0m: DataFrame.groupby() got an unexpected keyword argument 'ignore_index'"
     ]
    }
   ],
   "source": [
    "for label , group in data.groupby(\"category\",as_index=False):\n",
    "    if label == 1:\n",
    "        posi_comm = group\n",
    "    elif label == -1:\n",
    "        neg_comm = group\n",
    "    else:\n",
    "        neu_comm = group"
   ]
  },
  {
   "cell_type": "code",
   "execution_count": 45,
   "id": "450dab47-f996-4b8c-9e2e-32552af89b52",
   "metadata": {},
   "outputs": [],
   "source": [
    "num_posi_comm = len(posi_comm)\n",
    "num_neg_comm = len(neg_comm)\n",
    "num_neu_comm = len(neu_comm)"
   ]
  },
  {
   "cell_type": "code",
   "execution_count": 46,
   "id": "6041b1c7-9bae-4c46-9baf-9535eb6a5228",
   "metadata": {},
   "outputs": [
    {
     "data": {
      "text/plain": [
       "([<matplotlib.patches.Wedge at 0x7f16bfeeddb0>,\n",
       "  <matplotlib.patches.Wedge at 0x7f16bfeed2a0>,\n",
       "  <matplotlib.patches.Wedge at 0x7f16bfeeeec0>],\n",
       " [Text(0.19480549803129887, 1.0826129585113868, '-1.0'),\n",
       "  Text(-1.041199360962892, -0.3548293825635999, '0.0'),\n",
       "  Text(0.5336129524419945, -0.9619029145325103, '1.0')],\n",
       " [Text(0.10625754438070846, 0.5905161591880291, '44.3%'),\n",
       "  Text(-0.5679269241615774, -0.19354329958014538, '21.8%'),\n",
       "  Text(0.291061610422906, -0.5246743170177328, '33.9%')])"
      ]
     },
     "execution_count": 46,
     "metadata": {},
     "output_type": "execute_result"
    },
    {
     "data": {
      "image/png": "[encoded data removed]",
      "text/plain": [
       "<Figure size 640x480 with 1 Axes>"
      ]
     },
     "metadata": {},
     "output_type": "display_data"
    }
   ],
   "source": [
    "plt.pie(x=[num_posi_comm, num_neg_comm, num_neu_comm], labels = labels, autopct='%1.1f%%')"
   ]
  },
  {
   "cell_type": "code",
   "execution_count": 43,
   "id": "cb6fcc6d-52eb-4267-9198-b716b205ebc1",
   "metadata": {},
   "outputs": [
    {
     "data": {
      "text/html": [
       "<div>\n",
       "<style scoped>\n",
       "    .dataframe tbody tr th:only-of-type {\n",
       "        vertical-align: middle;\n",
       "    }\n",
       "\n",
       "    .dataframe tbody tr th {\n",
       "        vertical-align: top;\n",
       "    }\n",
       "\n",
       "    .dataframe thead th {\n",
       "        text-align: right;\n",
       "    }\n",
       "</style>\n",
       "<table border=\"1\" class=\"dataframe\">\n",
       "  <thead>\n",
       "    <tr style=\"text-align: right;\">\n",
       "      <th></th>\n",
       "      <th>clean_text</th>\n",
       "      <th>category</th>\n",
       "    </tr>\n",
       "  </thead>\n",
       "  <tbody>\n",
       "    <tr>\n",
       "      <th>2</th>\n",
       "      <td>what did just say vote for modi  welcome bjp t...</td>\n",
       "      <td>1.0</td>\n",
       "    </tr>\n",
       "    <tr>\n",
       "      <th>3</th>\n",
       "      <td>asking his supporters prefix chowkidar their n...</td>\n",
       "      <td>1.0</td>\n",
       "    </tr>\n",
       "    <tr>\n",
       "      <th>4</th>\n",
       "      <td>answer who among these the most powerful world...</td>\n",
       "      <td>1.0</td>\n",
       "    </tr>\n",
       "    <tr>\n",
       "      <th>8</th>\n",
       "      <td>with upcoming election india saga going import...</td>\n",
       "      <td>1.0</td>\n",
       "    </tr>\n",
       "    <tr>\n",
       "      <th>9</th>\n",
       "      <td>gandhi was gay does modi</td>\n",
       "      <td>1.0</td>\n",
       "    </tr>\n",
       "    <tr>\n",
       "      <th>...</th>\n",
       "      <td>...</td>\n",
       "      <td>...</td>\n",
       "    </tr>\n",
       "    <tr>\n",
       "      <th>162958</th>\n",
       "      <td>objective cover everything from akhlaq ramalin...</td>\n",
       "      <td>1.0</td>\n",
       "    </tr>\n",
       "    <tr>\n",
       "      <th>162959</th>\n",
       "      <td>raga knows dat wont spared modi courts for his...</td>\n",
       "      <td>1.0</td>\n",
       "    </tr>\n",
       "    <tr>\n",
       "      <th>162961</th>\n",
       "      <td>engine growth modi unveils indias first 12000 ...</td>\n",
       "      <td>1.0</td>\n",
       "    </tr>\n",
       "    <tr>\n",
       "      <th>162962</th>\n",
       "      <td>modi promised 2014 lok sabha elections that be...</td>\n",
       "      <td>1.0</td>\n",
       "    </tr>\n",
       "    <tr>\n",
       "      <th>162968</th>\n",
       "      <td>have you ever listen about like gurukul where ...</td>\n",
       "      <td>1.0</td>\n",
       "    </tr>\n",
       "  </tbody>\n",
       "</table>\n",
       "<p>72249 rows × 2 columns</p>\n",
       "</div>"
      ],
      "text/plain": [
       "                                               clean_text  category\n",
       "2       what did just say vote for modi  welcome bjp t...       1.0\n",
       "3       asking his supporters prefix chowkidar their n...       1.0\n",
       "4       answer who among these the most powerful world...       1.0\n",
       "8       with upcoming election india saga going import...       1.0\n",
       "9                              gandhi was gay does modi         1.0\n",
       "...                                                   ...       ...\n",
       "162958  objective cover everything from akhlaq ramalin...       1.0\n",
       "162959  raga knows dat wont spared modi courts for his...       1.0\n",
       "162961  engine growth modi unveils indias first 12000 ...       1.0\n",
       "162962  modi promised 2014 lok sabha elections that be...       1.0\n",
       "162968  have you ever listen about like gurukul where ...       1.0\n",
       "\n",
       "[72249 rows x 2 columns]"
      ]
     },
     "execution_count": 43,
     "metadata": {},
     "output_type": "execute_result"
    }
   ],
   "source": [
    "posi_comm"
   ]
  },
  {
   "cell_type": "code",
   "execution_count": 50,
   "id": "8ea59c6f-9135-41b5-85ad-f66418982973",
   "metadata": {},
   "outputs": [],
   "source": [
    "posi_comm_len = posi_comm[\"clean_text\"].apply(len).to_numpy()\n",
    "neg_comm_len = neg_comm[\"clean_text\"].apply(len).to_numpy()\n",
    "neu_comm_len = neu_comm[\"clean_text\"].apply(len).to_numpy()"
   ]
  },
  {
   "cell_type": "code",
   "execution_count": 141,
   "id": "48c33df0-a310-4cff-88e8-9397e087d4ca",
   "metadata": {},
   "outputs": [],
   "source": [
    "lens = [neg_comm_len, neu_comm_len,posi_comm_len]\n",
    "colors = [\"m\",\"y\",\"c\"]"
   ]
  },
  {
   "cell_type": "code",
   "execution_count": 131,
   "id": "78057fa2-41ef-49c7-8fb5-be6b39721a2f",
   "metadata": {},
   "outputs": [
    {
     "data": {
      "image/png": "[encoded data removed]",
      "text/plain": [
       "<Figure size 640x480 with 3 Axes>"
      ]
     },
     "metadata": {},
     "output_type": "display_data"
    }
   ],
   "source": [
    "len_distribution , ax = plt.subplots(3,1)\n",
    "for i, j in enumerate( zip (colors,lens,labels) ):\n",
    "    color, x, label = j\n",
    "    ax[i].hist(x, label = label, color = color)\n",
    "    ax[i].legend()\n",
    "    # ax[i].plot(x, stats.norm.pdf(x, mean(x), stdev(x)), color = color, label = label)"
   ]
  },
  {
   "cell_type": "code",
   "execution_count": 144,
   "id": "6fbc6b48-38a0-432b-b275-7aa21b074e10",
   "metadata": {},
   "outputs": [],
   "source": [
    "def save_fig (fig, path, name):\n",
    "    if not os.path.exists(path):\n",
    "        os.mkdir(path)\n",
    "    fig.savefig(os.path.join(path,f\"{name}.png\"), bbox_inches = \"tight\")"
   ]
  },
  {
   "cell_type": "code",
   "execution_count": 145,
   "id": "0a80b310-e6cf-488d-8f3c-ced9308bc9db",
   "metadata": {},
   "outputs": [],
   "source": [
    "save_fig(len_distribution,os.path.join(WORKDIR,\"src\"), \"len_disti\")"
   ]
  },
  {
   "cell_type": "code",
   "execution_count": 142,
   "id": "4f90a48f-1ff7-4d7b-b9ed-39c5dcb1957e",
   "metadata": {},
   "outputs": [
    {
     "data": {
      "text/plain": [
       "([<matplotlib.patches.Wedge at 0x7f16908905e0>,\n",
       "  <matplotlib.patches.Wedge at 0x7f1691466800>,\n",
       "  <matplotlib.patches.Wedge at 0x7f16907f91e0>],\n",
       " [Text(0.19480549803129887, 1.0826129585113868, '-1.0'),\n",
       "  Text(-1.041199360962892, -0.3548293825635999, '0.0'),\n",
       "  Text(0.5336129524419945, -0.9619029145325103, '1.0')],\n",
       " [Text(0.10625754438070846, 0.5905161591880291, '44.3%'),\n",
       "  Text(-0.5679269241615774, -0.19354329958014538, '21.8%'),\n",
       "  Text(0.291061610422906, -0.5246743170177328, '33.9%')])"
      ]
     },
     "execution_count": 142,
     "metadata": {},
     "output_type": "execute_result"
    },
    {
     "data": {
      "image/png": "[encoded data removed]",
      "text/plain": [
       "<Figure size 640x480 with 1 Axes>"
      ]
     },
     "metadata": {},
     "output_type": "display_data"
    }
   ],
   "source": [
    "freq_distri, ax =  plt.subplots()\n",
    "plt.pie(x=[num_posi_comm, num_neg_comm, num_neu_comm], colors = colors, labels = labels, autopct='%1.1f%%')"
   ]
  },
  {
   "cell_type": "code",
   "execution_count": 146,
   "id": "0d022919-a95b-4a0c-9239-0bb8979f6eeb",
   "metadata": {},
   "outputs": [],
   "source": [
    "save_fig(freq_distri,os.path.join(WORKDIR,\"src\"), \"freq_disti\")"
   ]
  },
  {
   "cell_type": "code",
   "execution_count": null,
   "id": "311a4c95-1beb-4b2f-895f-2003b5d657d5",
   "metadata": {},
   "outputs": [],
   "source": []
  }
 ],
 "metadata": {
  "kernelspec": {
   "display_name": "venv",
   "language": "python",
   "name": "venv"
  },
  "language_info": {
   "codemirror_mode": {
    "name": "ipython",
    "version": 3
   },
   "file_extension": ".py",
   "mimetype": "text/x-python",
   "name": "python",
   "nbconvert_exporter": "python",
   "pygments_lexer": "ipython3",
   "version": "3.10.12"
  }
 },
 "nbformat": 4,
 "nbformat_minor": 5
}
