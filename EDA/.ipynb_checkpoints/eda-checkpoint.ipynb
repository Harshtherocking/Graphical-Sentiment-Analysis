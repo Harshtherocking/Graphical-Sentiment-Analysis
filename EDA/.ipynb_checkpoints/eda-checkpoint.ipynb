{
 "cells": [
  {
   "cell_type": "code",
   "execution_count": 1,
   "id": "9fdbd6cd-73e8-4d2d-b761-87ea890b1586",
   "metadata": {},
   "outputs": [],
   "source": [
    "import pandas as pd\n",
    "import numpy as np\n",
    "import matplotlib.pyplot as plt\n",
    "import os"
   ]
  },
  {
   "cell_type": "code",
   "execution_count": 4,
   "id": "ebfcb359-2783-4a41-bad9-64561f864da4",
   "metadata": {},
   "outputs": [
    {
     "data": {
      "text/plain": [
       "'/home/harshtherocking/Documents/GraphSA/Graphical-Sentiment-Analysis'"
      ]
     },
     "execution_count": 4,
     "metadata": {},
     "output_type": "execute_result"
    }
   ],
   "source": [
    "WORKDIR = os.getcwd()\n",
    "os.chdir('../')\n",
    "WORKDIR"
   ]
  },
  {
   "cell_type": "code",
   "execution_count": 6,
   "id": "871822ff-b70e-42ab-a8b7-60883b305f51",
   "metadata": {},
   "outputs": [
    {
     "data": {
      "text/plain": [
       "['training.py',\n",
       " 'Twitter_Data.csv',\n",
       " 'MessagePassing',\n",
       " 'src',\n",
       " 'EDA',\n",
       " 'DependencyParsing',\n",
       " '.git',\n",
       " 'Embeddings',\n",
       " 'README.md']"
      ]
     },
     "execution_count": 6,
     "metadata": {},
     "output_type": "execute_result"
    }
   ],
   "source": [
    "os.listdir(WORKDIR)"
   ]
  },
  {
   "cell_type": "code",
   "execution_count": 7,
   "id": "b91c7760-4180-48f9-9a71-188b4d940839",
   "metadata": {},
   "outputs": [
    {
     "data": {
      "text/plain": [
       "'/home/harshtherocking/Documents/GraphSA/Graphical-Sentiment-Analysis/Twitter_Data.csv'"
      ]
     },
     "execution_count": 7,
     "metadata": {},
     "output_type": "execute_result"
    }
   ],
   "source": [
    "data_dir = os.path.join(WORKDIR, os.listdir(WORKDIR)[1])\n",
    "data_dir"
   ]
  },
  {
   "cell_type": "code",
   "execution_count": 8,
   "id": "a71cb823-0378-479c-88c1-9be99cd3be6f",
   "metadata": {},
   "outputs": [],
   "source": [
    "data = pd.read_csv(data_dir)"
   ]
  },
  {
   "cell_type": "code",
   "execution_count": 9,
   "id": "0c0c5e35-8499-4cf4-aede-ec8d2f67474e",
   "metadata": {},
   "outputs": [
    {
     "data": {
      "text/html": [
       "<div>\n",
       "<style scoped>\n",
       "    .dataframe tbody tr th:only-of-type {\n",
       "        vertical-align: middle;\n",
       "    }\n",
       "\n",
       "    .dataframe tbody tr th {\n",
       "        vertical-align: top;\n",
       "    }\n",
       "\n",
       "    .dataframe thead th {\n",
       "        text-align: right;\n",
       "    }\n",
       "</style>\n",
       "<table border=\"1\" class=\"dataframe\">\n",
       "  <thead>\n",
       "    <tr style=\"text-align: right;\">\n",
       "      <th></th>\n",
       "      <th>clean_text</th>\n",
       "      <th>category</th>\n",
       "    </tr>\n",
       "  </thead>\n",
       "  <tbody>\n",
       "    <tr>\n",
       "      <th>0</th>\n",
       "      <td>when modi promised “minimum government maximum...</td>\n",
       "      <td>-1.0</td>\n",
       "    </tr>\n",
       "    <tr>\n",
       "      <th>1</th>\n",
       "      <td>talk all the nonsense and continue all the dra...</td>\n",
       "      <td>0.0</td>\n",
       "    </tr>\n",
       "    <tr>\n",
       "      <th>2</th>\n",
       "      <td>what did just say vote for modi  welcome bjp t...</td>\n",
       "      <td>1.0</td>\n",
       "    </tr>\n",
       "    <tr>\n",
       "      <th>3</th>\n",
       "      <td>asking his supporters prefix chowkidar their n...</td>\n",
       "      <td>1.0</td>\n",
       "    </tr>\n",
       "    <tr>\n",
       "      <th>4</th>\n",
       "      <td>answer who among these the most powerful world...</td>\n",
       "      <td>1.0</td>\n",
       "    </tr>\n",
       "  </tbody>\n",
       "</table>\n",
       "</div>"
      ],
      "text/plain": [
       "                                          clean_text  category\n",
       "0  when modi promised “minimum government maximum...      -1.0\n",
       "1  talk all the nonsense and continue all the dra...       0.0\n",
       "2  what did just say vote for modi  welcome bjp t...       1.0\n",
       "3  asking his supporters prefix chowkidar their n...       1.0\n",
       "4  answer who among these the most powerful world...       1.0"
      ]
     },
     "execution_count": 9,
     "metadata": {},
     "output_type": "execute_result"
    }
   ],
   "source": [
    "data.head()"
   ]
  },
  {
   "cell_type": "code",
   "execution_count": 10,
   "id": "5ed9cde0-0f64-44d8-bdc1-1706cae24580",
   "metadata": {},
   "outputs": [],
   "source": [
    "data = data.dropna(axis = 0)"
   ]
  },
  {
   "cell_type": "code",
   "execution_count": 11,
   "id": "52ec31ca-8932-4b0e-b5fa-c0238e7a7df2",
   "metadata": {},
   "outputs": [
    {
     "data": {
      "text/plain": [
       "<bound method DataFrame.info of                                                clean_text  category\n",
       "0       when modi promised “minimum government maximum...      -1.0\n",
       "1       talk all the nonsense and continue all the dra...       0.0\n",
       "2       what did just say vote for modi  welcome bjp t...       1.0\n",
       "3       asking his supporters prefix chowkidar their n...       1.0\n",
       "4       answer who among these the most powerful world...       1.0\n",
       "...                                                   ...       ...\n",
       "162975  why these 456 crores paid neerav modi not reco...      -1.0\n",
       "162976  dear rss terrorist payal gawar what about modi...      -1.0\n",
       "162977  did you cover her interaction forum where she ...       0.0\n",
       "162978  there big project came into india modi dream p...       0.0\n",
       "162979  have you ever listen about like gurukul where ...       1.0\n",
       "\n",
       "[162969 rows x 2 columns]>"
      ]
     },
     "execution_count": 11,
     "metadata": {},
     "output_type": "execute_result"
    }
   ],
   "source": [
    "data.info"
   ]
  },
  {
   "cell_type": "code",
   "execution_count": 16,
   "id": "3d85a731-482e-4985-985a-6ab20c5db9a3",
   "metadata": {},
   "outputs": [
    {
     "data": {
      "text/plain": [
       "array([-1.,  0.,  1.])"
      ]
     },
     "execution_count": 16,
     "metadata": {},
     "output_type": "execute_result"
    }
   ],
   "source": [
    "labels = data[\"category\"].unique()\n",
    "labels"
   ]
  },
  {
   "cell_type": "code",
   "execution_count": 37,
   "id": "81a0274f-45bd-487a-b0c2-870829a57d4a",
   "metadata": {},
   "outputs": [],
   "source": [
    "for label , group in data.groupby(\"category\"):\n",
    "    if label == 1:\n",
    "        posi_comm = group\n",
    "    elif label == -1:\n",
    "        neg_comm = group\n",
    "    else:\n",
    "        neu_comm = group"
   ]
  },
  {
   "cell_type": "code",
   "execution_count": 43,
   "id": "450dab47-f996-4b8c-9e2e-32552af89b52",
   "metadata": {},
   "outputs": [],
   "source": [
    "num_posi_comm = len(posi_comm)\n",
    "num_neg_comm = len(neg_comm)\n",
    "num_neu_comm = len(neu_comm)"
   ]
  },
  {
   "cell_type": "code",
   "execution_count": 49,
   "id": "6041b1c7-9bae-4c46-9baf-9535eb6a5228",
   "metadata": {},
   "outputs": [
    {
     "data": {
      "text/plain": [
       "([<matplotlib.patches.Wedge at 0x7f30eb1f1030>,\n",
       "  <matplotlib.patches.Wedge at 0x7f30eb1f0f70>,\n",
       "  <matplotlib.patches.Wedge at 0x7f30eb1f1ab0>],\n",
       " [Text(0.19480549803129887, 1.0826129585113868, '-1.0'),\n",
       "  Text(-1.041199360962892, -0.3548293825635999, '0.0'),\n",
       "  Text(0.5336129524419945, -0.9619029145325103, '1.0')],\n",
       " [Text(0.10625754438070846, 0.5905161591880291, '44.3%'),\n",
       "  Text(-0.5679269241615774, -0.19354329958014538, '21.8%'),\n",
       "  Text(0.291061610422906, -0.5246743170177328, '33.9%')])"
      ]
     },
     "execution_count": 49,
     "metadata": {},
     "output_type": "execute_result"
    },
    {
     "data": {
      "image/png": "[encoded data removed]",
      "text/plain": [
       "<Figure size 640x480 with 1 Axes>"
      ]
     },
     "metadata": {},
     "output_type": "display_data"
    }
   ],
   "source": [
    "plt.pie(x=[num_posi_comm, num_neg_comm, num_neu_comm], labels = labels, autopct='%1.1f%%')"
   ]
  },
  {
   "cell_type": "code",
   "execution_count": 65,
   "id": "8ea59c6f-9135-41b5-85ad-f66418982973",
   "metadata": {},
   "outputs": [
    {
     "data": {
      "text/plain": [
       "2         117\n",
       "3         212\n",
       "4          81\n",
       "8         156\n",
       "9          26\n",
       "         ... \n",
       "162969    197\n",
       "162970    150\n",
       "162972     72\n",
       "162973    234\n",
       "162979    216\n",
       "Name: clean_text, Length: 72249, dtype: int64"
      ]
     },
     "execution_count": 65,
     "metadata": {},
     "output_type": "execute_result"
    }
   ],
   "source": [
    "posi_comm[\"clean_text\"].apply(len)"
   ]
  },
  {
   "cell_type": "code",
   "execution_count": null,
   "id": "78057fa2-41ef-49c7-8fb5-be6b39721a2f",
   "metadata": {},
   "outputs": [],
   "source": []
  }
 ],
 "metadata": {
  "kernelspec": {
   "display_name": "venv",
   "language": "python",
   "name": "venv"
  },
  "language_info": {
   "codemirror_mode": {
    "name": "ipython",
    "version": 3
   },
   "file_extension": ".py",
   "mimetype": "text/x-python",
   "name": "python",
   "nbconvert_exporter": "python",
   "pygments_lexer": "ipython3",
   "version": "3.10.12"
  }
 },
 "nbformat": 4,
 "nbformat_minor": 5
}
